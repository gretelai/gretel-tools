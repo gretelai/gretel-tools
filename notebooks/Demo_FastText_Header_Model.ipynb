{
 "cells": [
  {
   "cell_type": "markdown",
   "metadata": {},
   "source": [
    "# Demo FastText Header Model\n",
    "   * See Medium article for a walkthrough of these examples: https://medium.com/gretel-ai/innovating-with-fasttext-and-field-headers-b3eb5eec5080"
   ]
  },
  {
   "cell_type": "markdown",
   "metadata": {},
   "source": [
    "## Install Gretel Tools\n",
    "   * Python 3.6+ required\n",
    "   * See https://github.com/gretelai/gretel-tools/blob/master/README.md"
   ]
  },
  {
   "cell_type": "code",
   "execution_count": null,
   "metadata": {},
   "outputs": [],
   "source": [
    "#!pip install git+https://github.com/gretelai/gretel-tools.git"
   ]
  },
  {
   "cell_type": "markdown",
   "metadata": {},
   "source": [
    "## Load the FastText Header Model by instantiating a headers object"
   ]
  },
  {
   "cell_type": "code",
   "execution_count": null,
   "metadata": {},
   "outputs": [],
   "source": [
    "from gretel_tools import headers\n",
    "h = headers.HeaderAnalyzer()"
   ]
  },
  {
   "cell_type": "markdown",
   "metadata": {},
   "source": [
    "## Use Case Scenario:  Designing a new table schema \n",
    "### What headers are similar to \"telephone\"?\n",
    "       * Let's gather up the 30 most similar headers and ask to sort them by frequency"
   ]
  },
  {
   "cell_type": "code",
   "execution_count": null,
   "metadata": {},
   "outputs": [],
   "source": [
    "h.similar_by_word(\"telephone\", topn=30, sort_by = \"freq\")[0:10]"
   ]
  },
  {
   "cell_type": "markdown",
   "metadata": {},
   "source": [
    "### What if you had misspelled \"telephone\" as \"telepone\"?  (No problem!)"
   ]
  },
  {
   "cell_type": "code",
   "execution_count": null,
   "metadata": {},
   "outputs": [],
   "source": [
    "(h.similar_by_word(\"telepone\", topn=30, sort_by = \"freq\"))[0]"
   ]
  },
  {
   "cell_type": "markdown",
   "metadata": {},
   "source": [
    "## Use Case Scenario: Assessing the joinability of two tables\n",
    "### Are \"gender\" and \"sex\" similar?  (i.e. are they interchangeable in the context of table schemas?)\n",
    "       * Yes they are!  This is a decent similarity score"
   ]
  },
  {
   "cell_type": "code",
   "execution_count": null,
   "metadata": {},
   "outputs": [],
   "source": [
    "h.similarity(\"gender\",\"sex\")"
   ]
  },
  {
   "cell_type": "markdown",
   "metadata": {},
   "source": [
    "### Are \"street\" and \"address\" similar?\n",
    "       * Yes they are!"
   ]
  },
  {
   "cell_type": "code",
   "execution_count": null,
   "metadata": {},
   "outputs": [],
   "source": [
    "h.similarity(\"street\",\"address\")"
   ]
  },
  {
   "cell_type": "markdown",
   "metadata": {},
   "source": [
    "### Are \"player\" and \"athlete\" similar?\n",
    "    * Yes they are."
   ]
  },
  {
   "cell_type": "code",
   "execution_count": null,
   "metadata": {},
   "outputs": [],
   "source": [
    "h.similarity(\"player\",\"athlete\")"
   ]
  },
  {
   "cell_type": "markdown",
   "metadata": {},
   "source": [
    "## Use Case Scenario: Enforcing a Company Schema Standardization"
   ]
  },
  {
   "cell_type": "code",
   "execution_count": null,
   "metadata": {},
   "outputs": [],
   "source": [
    "standards = [\"address\",\"phone\",\"ethnicity\",\"birthdate\",\"title\",\"dept\"]\n",
    "myquery = \"born\"\n",
    "scores = [(x,h.similarity(x,myquery)) for x in standards]\n",
    "sorted(scores, key=lambda x: x[1], reverse=True)[0]"
   ]
  }
 ],
 "metadata": {
  "kernelspec": {
   "display_name": "Python 3",
   "language": "python",
   "name": "python3"
  },
  "language_info": {
   "codemirror_mode": {
    "name": "ipython",
    "version": 3
   },
   "file_extension": ".py",
   "mimetype": "text/x-python",
   "name": "python",
   "nbconvert_exporter": "python",
   "pygments_lexer": "ipython3",
   "version": "3.6.9"
  }
 },
 "nbformat": 4,
 "nbformat_minor": 4
}
